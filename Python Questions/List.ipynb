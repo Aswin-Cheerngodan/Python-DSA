{
 "cells": [
  {
   "cell_type": "markdown",
   "metadata": {},
   "source": [
    "### 1.Merge two sorted arrays into sorted"
   ]
  },
  {
   "cell_type": "code",
   "execution_count": 1,
   "metadata": {},
   "outputs": [
    {
     "data": {
      "text/plain": [
       "[1, 2, 2, 2, 3, 3, 4, 4, 5, 5, 6, 6, 6, 7, 8]"
      ]
     },
     "execution_count": 1,
     "metadata": {},
     "output_type": "execute_result"
    }
   ],
   "source": [
    "# Merge two sorted arrays into sorted array in O(n)\n",
    "\n",
    "def merge_two_sorted_array(arr1,arr2):\n",
    "    i,j = 0,0\n",
    "    merged = []\n",
    "\n",
    "    while i < len(arr1) and j < len(arr2):\n",
    "\n",
    "        if arr1[i] < arr2[j]:\n",
    "            merged.append(arr1[i])\n",
    "            i += 1\n",
    "        else:\n",
    "            merged.append(arr2[j])\n",
    "            j += 1\n",
    "        \n",
    "    if i < len(arr1):\n",
    "        merged.extend(arr1[i:])\n",
    "    \n",
    "    if j < len(arr2):\n",
    "        merged.extend(arr2[j:])\n",
    "\n",
    "    return merged\n",
    "\n",
    "arr1 = [1,2,3,4,5,5,6,6,6]\n",
    "arr2 = [2,2,3,4,7,8]\n",
    "\n",
    "merge_two_sorted_array(arr1,arr2)"
   ]
  },
  {
   "cell_type": "markdown",
   "metadata": {},
   "source": [
    "### 2.Prime number finding"
   ]
  },
  {
   "cell_type": "code",
   "execution_count": 2,
   "metadata": {},
   "outputs": [
    {
     "name": "stdout",
     "output_type": "stream",
     "text": [
      "[3, 5, 7, 11, 13, 17, 19]\n"
     ]
    }
   ],
   "source": [
    "def is_prime(num):\n",
    "    if num<2:\n",
    "        return False\n",
    "    for i in range(2,int(num**0.5)+1):\n",
    "        if num%i == 0:\n",
    "            return False\n",
    "    return True\n",
    "\n",
    "def prime_number(start,end):\n",
    "    primes = []\n",
    "    for i in range(start,end+1):\n",
    "        if is_prime(i):\n",
    "            primes.append(i)\n",
    "    return primes\n",
    "\n",
    "print(prime_number(3,20))"
   ]
  },
  {
   "cell_type": "markdown",
   "metadata": {},
   "source": []
  }
 ],
 "metadata": {
  "kernelspec": {
   "display_name": "Python 3",
   "language": "python",
   "name": "python3"
  },
  "language_info": {
   "codemirror_mode": {
    "name": "ipython",
    "version": 3
   },
   "file_extension": ".py",
   "mimetype": "text/x-python",
   "name": "python",
   "nbconvert_exporter": "python",
   "pygments_lexer": "ipython3",
   "version": "3.12.3"
  }
 },
 "nbformat": 4,
 "nbformat_minor": 2
}
